{
 "cells": [
  {
   "cell_type": "markdown",
   "id": "28fad0a0-f572-4949-b856-0b69cda6fa31",
   "metadata": {
    "tags": []
   },
   "source": [
    "# My Jupyter Notebook"
   ]
  },
  {
   "cell_type": "markdown",
   "id": "2bf04a8d-f81d-4f1b-97da-d71071ce63f8",
   "metadata": {},
   "source": [
    "This Jupyter notebook is my final project to complete the course."
   ]
  },
  {
   "cell_type": "markdown",
   "id": "60660863-2f35-4176-a6a7-3ce84fb2dcea",
   "metadata": {},
   "source": [
    "* Python\n",
    "* SQL\n",
    "* R\n",
    "* C++"
   ]
  },
  {
   "cell_type": "markdown",
   "id": "698ccb58-e721-40c6-b3c2-67adb84ff562",
   "metadata": {},
   "source": [
    "* Numpy\n",
    "* Pandas\n",
    "* SeaBorn\n",
    "* Sckitlearn\n",
    "* Matplotlib\n",
    "* TensorFlow\n",
    "* ggplot"
   ]
  },
  {
   "cell_type": "markdown",
   "id": "9e7e59c4-42be-4534-8ae5-983fa64cd7f7",
   "metadata": {},
   "source": [
    "| Tools       | Libraries |\n",
    "| ------------- |:--------:|\n",
    "| Python      | Pandas|\n",
    "| SQL         | NaN      |\n",
    "| R           | ggplot      |"
   ]
  },
  {
   "cell_type": "code",
   "execution_count": 9,
   "id": "28ad46e6-0d0a-4de0-86eb-86b7822249d1",
   "metadata": {},
   "outputs": [
    {
     "name": "stdout",
     "output_type": "stream",
     "text": [
      "3\n"
     ]
    }
   ],
   "source": [
    "print(1+2)"
   ]
  },
  {
   "cell_type": "code",
   "execution_count": 10,
   "id": "be09f84a-5d7b-4028-b07d-2411228bdad0",
   "metadata": {},
   "outputs": [
    {
     "name": "stdout",
     "output_type": "stream",
     "text": [
      "12\n",
      "20\n"
     ]
    }
   ],
   "source": [
    "a=10\n",
    "b=2\n",
    "print(a+b)\n",
    "print(a*b)"
   ]
  },
  {
   "cell_type": "code",
   "execution_count": 11,
   "id": "1e16a2eb-3e79-4cc6-bc35-c5f56f107889",
   "metadata": {},
   "outputs": [
    {
     "name": "stdout",
     "output_type": "stream",
     "text": [
      "Seconds: 3600\n"
     ]
    }
   ],
   "source": [
    "minutes=60\n",
    "print(\"Seconds:\",minutes*60)"
   ]
  },
  {
   "cell_type": "markdown",
   "id": "c6c7f0e7-11a2-4225-adba-d0df0d4e7b64",
   "metadata": {},
   "source": [
    "## Objectives\n",
    "* Objective 1\n",
    "* Objective 2\n",
    "* Objective 3"
   ]
  },
  {
   "cell_type": "markdown",
   "id": "f5b71a09-b0e8-4b25-81c9-05a43c04f49b",
   "metadata": {},
   "source": [
    "**Juan Sebastian Hernandez Bedoya**"
   ]
  },
  {
   "cell_type": "code",
   "execution_count": null,
   "id": "4e079779-cd0f-4a77-b17b-61a6b415099d",
   "metadata": {},
   "outputs": [],
   "source": []
  }
 ],
 "metadata": {
  "kernelspec": {
   "display_name": "Python",
   "language": "python",
   "name": "conda-env-python-py"
  },
  "language_info": {
   "codemirror_mode": {
    "name": "ipython",
    "version": 3
   },
   "file_extension": ".py",
   "mimetype": "text/x-python",
   "name": "python",
   "nbconvert_exporter": "python",
   "pygments_lexer": "ipython3",
   "version": "3.7.12"
  }
 },
 "nbformat": 4,
 "nbformat_minor": 5
}
